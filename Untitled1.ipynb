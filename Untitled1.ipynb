{
 "cells": [
  {
   "cell_type": "code",
   "execution_count": 7,
   "id": "0c657999-a845-4d17-ab39-3fe5186e74c5",
   "metadata": {},
   "outputs": [
    {
     "name": "stdout",
     "output_type": "stream",
     "text": [
      "20\n",
      "[20, 30]\n",
      "[20, 30, 40]\n",
      "[10, 20, 30]\n",
      "[10, 20, 30, 40]\n"
     ]
    }
   ],
   "source": [
    "my_list=[10, 20, 30, 40]\n",
    "print(my_list[1])\n",
    "print(my_list[1:3])\n",
    "print(my_list[1:])\n",
    "print(my_list[:3])\n",
    "print(my_list[:])\n"
   ]
  },
  {
   "cell_type": "code",
   "execution_count": 11,
   "id": "4d33ac87-b9a2-49db-bc38-9b101ac7edae",
   "metadata": {},
   "outputs": [
    {
     "name": "stdout",
     "output_type": "stream",
     "text": [
      "10\n",
      "20\n",
      "30\n",
      "40\n",
      "50\n"
     ]
    }
   ],
   "source": [
    "my_list=[10,20,30,40,50]\n",
    "for item in my_list:\n",
    "    print(item)\n",
    "\n",
    "\n",
    "\n"
   ]
  },
  {
   "cell_type": "code",
   "execution_count": 13,
   "id": "4ed194a9-606c-4064-ad94-f5ce2c07e9ed",
   "metadata": {},
   "outputs": [
    {
     "name": "stdout",
     "output_type": "stream",
     "text": [
      "10\n",
      "20\n",
      "30\n",
      "40\n",
      "50\n"
     ]
    }
   ],
   "source": [
    "for x in range(len(my_list)):\n",
    "    print(my_list[x])\n",
    "\n",
    "    \n",
    "\n"
   ]
  },
  {
   "cell_type": "code",
   "execution_count": 1001,
   "id": "169b5c95-fdfc-4fd1-99a5-09cf8b20b405",
   "metadata": {
    "collapsed": true,
    "jupyter": {
     "outputs_hidden": true,
     "source_hidden": true
    },
    "scrolled": true
   },
   "outputs": [
    {
     "data": {
      "text/plain": [
       "10"
      ]
     },
     "execution_count": 1001,
     "metadata": {},
     "output_type": "execute_result"
    }
   ],
   "source": []
  },
  {
   "cell_type": "code",
   "execution_count": 1003,
   "id": "76415734-859b-4db7-906d-3753a700d4b0",
   "metadata": {},
   "outputs": [
    {
     "data": {
      "text/plain": [
       "10"
      ]
     },
     "execution_count": 1003,
     "metadata": {},
     "output_type": "execute_result"
    }
   ],
   "source": [
    "my_list=[10,20,30,40]\n",
    "my_list[-1]\n",
    "my_list[0]"
   ]
  },
  {
   "cell_type": "code",
   "execution_count": 5,
   "id": "b6b3cf44-f648-4b3c-aceb-efd9eab66e3c",
   "metadata": {},
   "outputs": [
    {
     "name": "stdout",
     "output_type": "stream",
     "text": [
      "[['apple', 10], ['bannana', 5], ['cherry', 10000000000000], ['dragon', 10]]\n"
     ]
    }
   ],
   "source": [
    "orders=[['apple',10],['bannana',5],['cherry',7],['dragon',10]]\n",
    "for each in orders:\n",
    "    if each[0]==\"cherry\":\n",
    "        each[1]=10000000000000\n",
    "\n",
    "print(orders)\n",
    "\n",
    "\n",
    "\n"
   ]
  },
  {
   "cell_type": "code",
   "execution_count": 15,
   "id": "65a83f8e-f570-4cfc-b0fc-02cf156dae86",
   "metadata": {},
   "outputs": [
    {
     "name": "stdout",
     "output_type": "stream",
     "text": [
      "[['apple', 10], ['bannana', 5], ['cherry', 7], ['dragon', 10], ['apple', 15]]\n",
      "[10, 15]\n",
      "25\n"
     ]
    }
   ],
   "source": [
    "orders=[['apple',10],['bannana',5],['cherry',7],['dragon',10]]\n",
    "orders.append([\"apple\",15])\n",
    "print(orders)\n",
    "total=[]\n",
    "for each_item in orders:\n",
    "    if each_item[0]==\"apple\":\n",
    "        total.append(each_item[1])\n",
    "print(total)\n",
    "print(sum(total))\n"
   ]
  },
  {
   "cell_type": "code",
   "execution_count": 19,
   "id": "da01e95d-bf80-432e-a4fd-3356c50e52db",
   "metadata": {},
   "outputs": [
    {
     "name": "stdout",
     "output_type": "stream",
     "text": [
      "[['apple', 25], ['banana', 5], ['cherry', 7], ['dragon', 10]]\n"
     ]
    }
   ],
   "source": [
    "\n",
    "orders = [['apple', 10], ['banana', 5], ['cherry', 7], ['dragon', 10]]\n",
    "added_count = 15\n",
    "for item in orders:\n",
    "    if item[0] == 'apple':\n",
    "        item[1] += added_count\n",
    "\n",
    "print(orders)"
   ]
  },
  {
   "cell_type": "code",
   "execution_count": 21,
   "id": "703f463e-fe86-4659-b3e1-7a8f42647b8d",
   "metadata": {},
   "outputs": [
    {
     "name": "stdout",
     "output_type": "stream",
     "text": [
      "(4, 10, 9, 'a', 9.81, False, (9-6j))\n",
      "<class 'tuple'>\n"
     ]
    }
   ],
   "source": [
    "tup1=(4,10,9,\"a\",9.81, False, 9-6j)\n",
    "print(tup1)\n",
    "print (type(tup1))\n",
    "\n"
   ]
  },
  {
   "cell_type": "code",
   "execution_count": 29,
   "id": "05e6cdae-522c-4436-a20e-6c000df85ed4",
   "metadata": {},
   "outputs": [
    {
     "name": "stdout",
     "output_type": "stream",
     "text": [
      "(9.81, False)\n"
     ]
    }
   ],
   "source": [
    "print(tup1[4:6])\n",
    "\n"
   ]
  },
  {
   "cell_type": "code",
   "execution_count": 33,
   "id": "71e1f0ef-7081-4cb2-966a-20148ab578fa",
   "metadata": {},
   "outputs": [
    {
     "data": {
      "text/plain": [
       "2"
      ]
     },
     "execution_count": 33,
     "metadata": {},
     "output_type": "execute_result"
    }
   ],
   "source": [
    "tup1.index(9)"
   ]
  },
  {
   "cell_type": "code",
   "execution_count": 1,
   "id": "2508958b-8d3c-4c4d-af1c-3872466fd8c9",
   "metadata": {},
   "outputs": [
    {
     "data": {
      "text/plain": [
       "3"
      ]
     },
     "execution_count": 1,
     "metadata": {},
     "output_type": "execute_result"
    }
   ],
   "source": [
    "tup2=(10,20,30,10,30,40,10)\n",
    "tup2.count(10)\n"
   ]
  },
  {
   "cell_type": "code",
   "execution_count": 13,
   "id": "a7c74b8c-b706-47aa-bd7c-8d5e76239226",
   "metadata": {},
   "outputs": [
    {
     "name": "stdout",
     "output_type": "stream",
     "text": [
      "{0, 1, 8, 9, 10, 78, 20}\n",
      "<class 'set'>\n"
     ]
    }
   ],
   "source": [
    "lst1=[1,8,9,0,10,20,78,8,8,8]\n",
    "\n",
    "s2=set(lst1)\n",
    "print(s2)\n",
    "print(type(s2))"
   ]
  },
  {
   "cell_type": "code",
   "execution_count": 15,
   "id": "51a0dbda-34b9-48ed-90d4-e54f53aebb96",
   "metadata": {},
   "outputs": [
    {
     "data": {
      "text/plain": [
       "['__and__',\n",
       " '__class__',\n",
       " '__class_getitem__',\n",
       " '__contains__',\n",
       " '__delattr__',\n",
       " '__dir__',\n",
       " '__doc__',\n",
       " '__eq__',\n",
       " '__format__',\n",
       " '__ge__',\n",
       " '__getattribute__',\n",
       " '__getstate__',\n",
       " '__gt__',\n",
       " '__hash__',\n",
       " '__iand__',\n",
       " '__init__',\n",
       " '__init_subclass__',\n",
       " '__ior__',\n",
       " '__isub__',\n",
       " '__iter__',\n",
       " '__ixor__',\n",
       " '__le__',\n",
       " '__len__',\n",
       " '__lt__',\n",
       " '__ne__',\n",
       " '__new__',\n",
       " '__or__',\n",
       " '__rand__',\n",
       " '__reduce__',\n",
       " '__reduce_ex__',\n",
       " '__repr__',\n",
       " '__ror__',\n",
       " '__rsub__',\n",
       " '__rxor__',\n",
       " '__setattr__',\n",
       " '__sizeof__',\n",
       " '__str__',\n",
       " '__sub__',\n",
       " '__subclasshook__',\n",
       " '__xor__',\n",
       " 'add',\n",
       " 'clear',\n",
       " 'copy',\n",
       " 'difference',\n",
       " 'difference_update',\n",
       " 'discard',\n",
       " 'intersection',\n",
       " 'intersection_update',\n",
       " 'isdisjoint',\n",
       " 'issubset',\n",
       " 'issuperset',\n",
       " 'pop',\n",
       " 'remove',\n",
       " 'symmetric_difference',\n",
       " 'symmetric_difference_update',\n",
       " 'union',\n",
       " 'update']"
      ]
     },
     "execution_count": 15,
     "metadata": {},
     "output_type": "execute_result"
    }
   ],
   "source": [
    "dir(set)"
   ]
  },
  {
   "cell_type": "code",
   "execution_count": 17,
   "id": "2602b0c9-20f0-478d-9da5-2d4a43e08c61",
   "metadata": {},
   "outputs": [
    {
     "data": {
      "text/plain": [
       "{1, 2, 3, 4, 5, 6}"
      ]
     },
     "execution_count": 17,
     "metadata": {},
     "output_type": "execute_result"
    }
   ],
   "source": [
    "s1={1,2,3,4}\n",
    "s2={3,4,5,6}\n",
    "s1|s2\n",
    "\n"
   ]
  },
  {
   "cell_type": "code",
   "execution_count": 19,
   "id": "ca65f886-9dd3-4b64-82a3-10011abe82c9",
   "metadata": {},
   "outputs": [
    {
     "data": {
      "text/plain": [
       "{1, 2, 3, 4, 5, 6}"
      ]
     },
     "execution_count": 19,
     "metadata": {},
     "output_type": "execute_result"
    }
   ],
   "source": [
    "s1.union(s2)"
   ]
  },
  {
   "cell_type": "code",
   "execution_count": 22,
   "id": "8082f508-bfac-437c-83a4-9d8e93183d95",
   "metadata": {},
   "outputs": [
    {
     "data": {
      "text/plain": [
       "{3, 4}"
      ]
     },
     "execution_count": 22,
     "metadata": {},
     "output_type": "execute_result"
    }
   ],
   "source": [
    "s1&s2"
   ]
  },
  {
   "cell_type": "code",
   "execution_count": 26,
   "id": "bbfdcc92-b493-4ee9-a5bd-afe61b1f2fe8",
   "metadata": {},
   "outputs": [
    {
     "data": {
      "text/plain": [
       "{5, 6}"
      ]
     },
     "execution_count": 26,
     "metadata": {},
     "output_type": "execute_result"
    }
   ],
   "source": [
    "s1-s2\n",
    "s2-s1\n",
    "s1\n",
    "\n"
   ]
  },
  {
   "cell_type": "code",
   "execution_count": 28,
   "id": "c997274a-8e6f-4256-9eca-8e6317eebd73",
   "metadata": {},
   "outputs": [
    {
     "data": {
      "text/plain": [
       "False"
      ]
     },
     "execution_count": 28,
     "metadata": {},
     "output_type": "execute_result"
    }
   ],
   "source": [
    "s2.issubset(s1)\n",
    "s2.issuperset(s1)\n",
    "\n",
    "\n"
   ]
  },
  {
   "cell_type": "code",
   "execution_count": 30,
   "id": "0ed954a6-1cad-410e-bc69-b70ec4a9e971",
   "metadata": {},
   "outputs": [
    {
     "name": "stdout",
     "output_type": "stream",
     "text": [
      "Welcome to aiml class\n",
      "we started with python\n"
     ]
    }
   ],
   "source": [
    "str1=\"Welcome to aiml class\"\n",
    "print(str1)\n",
    "str2='we started with python'\n",
    "print(str2)\n",
    "\n",
    "\n",
    "\n",
    "\n",
    "\n"
   ]
  },
  {
   "cell_type": "code",
   "execution_count": 34,
   "id": "1d401400-fc7f-43b4-809f-130e4d8dd3cf",
   "metadata": {},
   "outputs": [
    {
     "name": "stdout",
     "output_type": "stream",
     "text": [
      "<class 'str'>\n",
      "<class 'str'>\n"
     ]
    }
   ],
   "source": [
    "print(type (str1))\n",
    "print(type (str2))\n",
    "\n",
    "\n"
   ]
  },
  {
   "cell_type": "code",
   "execution_count": 44,
   "id": "5d95549c-35f1-4e1b-9736-7b17f29c2709",
   "metadata": {},
   "outputs": [
    {
     "name": "stdout",
     "output_type": "stream",
     "text": [
      "Welcome to aiml class\n"
     ]
    },
    {
     "data": {
      "text/plain": [
       "'me to'"
      ]
     },
     "execution_count": 44,
     "metadata": {},
     "output_type": "execute_result"
    }
   ],
   "source": [
    "print(str1)\n",
    "str1[5:10]\n"
   ]
  },
  {
   "cell_type": "code",
   "execution_count": 50,
   "id": "4fbd2970-74c0-4c2e-bcf1-43c2915a8e7a",
   "metadata": {},
   "outputs": [
    {
     "name": "stdout",
     "output_type": "stream",
     "text": [
      "we started with python\n"
     ]
    },
    {
     "data": {
      "text/plain": [
       "'come to aiml'"
      ]
     },
     "execution_count": 50,
     "metadata": {},
     "output_type": "execute_result"
    }
   ],
   "source": [
    "print(str2)\n",
    "str1[3:15]\n"
   ]
  },
  {
   "cell_type": "code",
   "execution_count": 52,
   "id": "f45da5f5-ecc2-4c12-b8a1-84a706e69e98",
   "metadata": {},
   "outputs": [
    {
     "name": "stdout",
     "output_type": "stream",
     "text": [
      "Welcome to aiml class\n"
     ]
    },
    {
     "data": {
      "text/plain": [
       "['Welcome', 'to', 'aiml', 'class']"
      ]
     },
     "execution_count": 52,
     "metadata": {},
     "output_type": "execute_result"
    }
   ],
   "source": [
    "print(str1)\n",
    "str1.split()\n"
   ]
  },
  {
   "cell_type": "code",
   "execution_count": 54,
   "id": "a06f2dcc-abd3-41e0-a725-3578faf45bc2",
   "metadata": {},
   "outputs": [
    {
     "data": {
      "text/plain": [
       "'The product is awsesome;Great Service'"
      ]
     },
     "execution_count": 54,
     "metadata": {},
     "output_type": "execute_result"
    }
   ],
   "source": [
    "reviews = [\"The product is awsesome\",\"Great Service\"]\n",
    "joined_string=';'.join(reviews)\n",
    "joined_string\n",
    "\n"
   ]
  },
  {
   "cell_type": "code",
   "execution_count": 56,
   "id": "6e26313e-03a3-44bc-8410-3e7bed01e3e8",
   "metadata": {},
   "outputs": [
    {
     "data": {
      "text/plain": [
       "'            hello,how are you?            '"
      ]
     },
     "execution_count": 56,
     "metadata": {},
     "output_type": "execute_result"
    }
   ],
   "source": [
    "str5=\"            hello,how are you?            \"\n",
    "str5\n"
   ]
  },
  {
   "cell_type": "code",
   "execution_count": 58,
   "id": "6bf7ccd4-e23e-44f6-99bb-ea48ed69bd00",
   "metadata": {},
   "outputs": [
    {
     "data": {
      "text/plain": [
       "'hello,how are you?'"
      ]
     },
     "execution_count": 58,
     "metadata": {},
     "output_type": "execute_result"
    }
   ],
   "source": [
    "str5.strip()"
   ]
  },
  {
   "cell_type": "code",
   "execution_count": 60,
   "id": "79919a33-8f55-45c0-bad7-1e82dec6e2eb",
   "metadata": {},
   "outputs": [
    {
     "data": {
      "text/plain": [
       "'hello,how are you?'"
      ]
     },
     "execution_count": 60,
     "metadata": {},
     "output_type": "execute_result"
    }
   ],
   "source": [
    "str5=\"hello,how are you?\"\n",
    "str5.lower()\n"
   ]
  },
  {
   "cell_type": "code",
   "execution_count": null,
   "id": "cf965445-ac97-4268-ad20-bc75f71cac26",
   "metadata": {},
   "outputs": [],
   "source": []
  }
 ],
 "metadata": {
  "kernelspec": {
   "display_name": "Python [conda env:base] *",
   "language": "python",
   "name": "conda-base-py"
  },
  "language_info": {
   "codemirror_mode": {
    "name": "ipython",
    "version": 3
   },
   "file_extension": ".py",
   "mimetype": "text/x-python",
   "name": "python",
   "nbconvert_exporter": "python",
   "pygments_lexer": "ipython3",
   "version": "3.12.7"
  }
 },
 "nbformat": 4,
 "nbformat_minor": 5
}
