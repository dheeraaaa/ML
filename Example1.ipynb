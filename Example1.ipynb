{
 "cells": [
  {
   "cell_type": "code",
   "execution_count": null,
   "id": "91e26a8f-e826-4169-84d3-6066a4915262",
   "metadata": {},
   "outputs": [],
   "source": [
    "'''\n",
    "1.Read a long text in to string that contains some punctuation marks also\n",
    "2.convert to lower case\n",
    "3.remove punctuation marks\n",
    "4.split it in to words using split() function\n",
    "5.make a dictionary using each unique word as the key and its value being the number\n",
    "6.convert the dict to dataframe and print it\n",
    "'''\n",
    "\n",
    "\n",
    "\n",
    "\n"
   ]
  },
  {
   "cell_type": "code",
   "execution_count": 3,
   "id": "6dd29b20-be65-46f3-8d8f-e10a57ec53d0",
   "metadata": {},
   "outputs": [
    {
     "name": "stdout",
     "output_type": "stream",
     "text": [
      "this is a sample text.It contains some punctuation marks, like commas.It is written to demonstarte text processing in python\n"
     ]
    }
   ],
   "source": [
    "import pandas as pd\n",
    "import string\n",
    "text = '''this is a sample text.It contains some punctuation marks,like commas.It is written to demonstarte text processing in python'''\n",
    "print(text)\n"
   ]
  },
  {
   "cell_type": "raw",
   "id": "1870ce06-e7a0-43fe-923b-398c98cee436",
   "metadata": {},
   "source": []
  },
  {
   "cell_type": "code",
   "execution_count": 5,
   "id": "1ab8c120-b978-4f56-aafe-6b9d5ea1864b",
   "metadata": {},
   "outputs": [
    {
     "name": "stdout",
     "output_type": "stream",
     "text": [
      "this is a sample text.It contains some punctuation marks,like commas.It is written to demonstarte text processing in python\n"
     ]
    }
   ],
   "source": [
    "print(\"this is a sample text.It contains some punctuation marks,like commas.It is written to demonstarte text processing in python\")"
   ]
  },
  {
   "cell_type": "code",
   "execution_count": 7,
   "id": "be241f50-a2a9-4178-998d-ae7556f516bd",
   "metadata": {},
   "outputs": [
    {
     "data": {
      "text/plain": [
       "'this is a sample text.it contains some punctuation marks, like commas.it is written to demonstarte text processing in python'"
      ]
     },
     "execution_count": 7,
     "metadata": {},
     "output_type": "execute_result"
    }
   ],
   "source": [
    "text = text.lower()\n",
    "text\n"
   ]
  },
  {
   "cell_type": "code",
   "execution_count": 11,
   "id": "6470f3a5-fe7f-4aba-a79a-38f8886dbe1d",
   "metadata": {},
   "outputs": [
    {
     "data": {
      "text/plain": [
       "'this is a sample textit contains some punctuation marks like commasit is written to demonstarte text processing in python'"
      ]
     },
     "execution_count": 11,
     "metadata": {},
     "output_type": "execute_result"
    }
   ],
   "source": [
    "text = text.translate(str.maketrans(\"\",\"\",string.punctuation))\n",
    "text\n"
   ]
  },
  {
   "cell_type": "code",
   "execution_count": 15,
   "id": "5eec5bd5-43f5-4baf-b689-1678f4bdee62",
   "metadata": {},
   "outputs": [
    {
     "data": {
      "text/plain": [
       "'Hello world'"
      ]
     },
     "execution_count": 15,
     "metadata": {},
     "output_type": "execute_result"
    }
   ],
   "source": [
    "punc_marks=['\"',',','?']\n",
    "text=\"Hello world\"\n",
    "text\n",
    "\n"
   ]
  },
  {
   "cell_type": "code",
   "execution_count": 19,
   "id": "953d0d3e-9b8a-476d-9ff9-3af09a5b90ab",
   "metadata": {},
   "outputs": [],
   "source": [
    "for symbol in text:\n",
    "    if symbol in punc_marks:\n",
    "        text=text.replace(symbol,\"\")\n",
    "\n",
    "\n"
   ]
  }
 ],
 "metadata": {
  "kernelspec": {
   "display_name": "Python [conda env:base] *",
   "language": "python",
   "name": "conda-base-py"
  },
  "language_info": {
   "codemirror_mode": {
    "name": "ipython",
    "version": 3
   },
   "file_extension": ".py",
   "mimetype": "text/x-python",
   "name": "python",
   "nbconvert_exporter": "python",
   "pygments_lexer": "ipython3",
   "version": "3.12.7"
  }
 },
 "nbformat": 4,
 "nbformat_minor": 5
}
